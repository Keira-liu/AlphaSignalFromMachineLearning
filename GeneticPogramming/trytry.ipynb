{
 "cells": [
  {
   "cell_type": "code",
   "execution_count": 3,
   "metadata": {},
   "outputs": [
    {
     "name": "stdout",
     "output_type": "stream",
     "text": [
      "False\n"
     ]
    }
   ],
   "source": [
    "from deap import tools, creator, base\n",
    "import random\n",
    "\n",
    "\n",
    "IND_SIZE = 10 #A single individual has 10 arguments\n",
    "\n",
    "#creating individuals\n",
    "creator.create('MaxFitness', base.Fitness, weights = (1.0,1.0)) #double optimization object\n",
    "\n",
    "creator.create('Individual', list, fitness = creator.MaxFitness) #creating a list to store individual\n",
    "\n",
    "toolbox = base.Toolbox()  #called Toolbox\n",
    "\n",
    "toolbox.register('generating_method', random.random) #define random method\n",
    "\n",
    "toolbox.register('individual', tools.initRepeat ,creator.Individual, toolbox.generating_method, n = IND_SIZE) #define individual, mode:initRepeat, each individual has 10 arguments\n",
    "\n",
    "init = toolbox.individual()\n",
    "print(init.fitness.valid)"
   ]
  },
  {
   "cell_type": "code",
   "execution_count": 6,
   "metadata": {},
   "outputs": [],
   "source": [
    "def evaluate(individual):\n",
    "    #do some hard computing on the individual\n",
    "    a = sum(individual)\n",
    "    b = len(individual)\n",
    "    return a, 1. /b"
   ]
  },
  {
   "cell_type": "code",
   "execution_count": 7,
   "metadata": {},
   "outputs": [
    {
     "name": "stdout",
     "output_type": "stream",
     "text": [
      "False\n",
      "(6.44719975109452, 0.1)\n"
     ]
    }
   ],
   "source": [
    "init.fitness.value = evaluate(init) #setting value \n",
    "print(init.fitness.valid)\n",
    "print(init.fitness.value)"
   ]
  },
  {
   "cell_type": "code",
   "execution_count": 23,
   "metadata": {},
   "outputs": [
    {
     "data": {
      "text/plain": [
       "(6.44719975109452, 0.1)"
      ]
     },
     "execution_count": 23,
     "metadata": {},
     "output_type": "execute_result"
    }
   ],
   "source": [
    "init.fitness.value"
   ]
  },
  {
   "cell_type": "code",
   "execution_count": 142,
   "metadata": {},
   "outputs": [
    {
     "data": {
      "text/plain": [
       "[1.040794516819836,\n",
       " 0.9269859901281282,\n",
       " 0.8891646064964668,\n",
       " 0.8448934716028157,\n",
       " 1.065171645432228,\n",
       " 0.71021551778035,\n",
       " 0.3237017678765778,\n",
       " 0.9747713956194416,\n",
       " 0.07365550607053672,\n",
       " 0.07192981491228545]"
      ]
     },
     "execution_count": 142,
     "metadata": {},
     "output_type": "execute_result"
    }
   ],
   "source": [
    "mutant = toolbox.clone(init)   #define mutant as the clone of init\n",
    "#new offspring init2 from mutant by Gaussian mutation\n",
    "init2, = tools.mutGaussian(mutant, mu = 0.0, sigma = 0.2, indpb = 0.2)\n",
    "del mutant.fitness.values\n",
    "mutant"
   ]
  },
  {
   "cell_type": "code",
   "execution_count": 143,
   "metadata": {},
   "outputs": [
    {
     "data": {
      "text/plain": [
       "[1.040794516819836,\n",
       " 0.9269859901281282,\n",
       " 0.8891646064964668,\n",
       " 0.8448934716028157,\n",
       " 1.065171645432228,\n",
       " 0.71021551778035,\n",
       " 0.3237017678765778,\n",
       " 0.9747713956194416,\n",
       " 0.07365550607053672,\n",
       " 0.07192981491228545]"
      ]
     },
     "execution_count": 143,
     "metadata": {},
     "output_type": "execute_result"
    }
   ],
   "source": [
    "init2"
   ]
  },
  {
   "cell_type": "code",
   "execution_count": 95,
   "metadata": {},
   "outputs": [
    {
     "data": {
      "text/plain": [
       "([0.6531130096971938,\n",
       "  0.9827366144433758,\n",
       "  0.9850245147031187,\n",
       "  0.7875693757665965,\n",
       "  0.10895688335339834,\n",
       "  0.8040082488351299,\n",
       "  0.23022572100661354,\n",
       "  0.18324590141558017,\n",
       "  0.017807771983928862,\n",
       "  0.08122803603488127],\n",
       " [0.7915015732682424,\n",
       "  0.964998827409379,\n",
       "  0.8867210217083615,\n",
       "  0.6899250943677809,\n",
       "  1.050934684514928,\n",
       "  0.9358145265354931,\n",
       "  0.7651832969713095,\n",
       "  0.8037571263550005,\n",
       "  -0.12316112187570363,\n",
       "  0.19795642059693386])"
      ]
     },
     "execution_count": 95,
     "metadata": {},
     "output_type": "execute_result"
    }
   ],
   "source": [
    "#clone two children\n",
    "child1, child2 = [toolbox.clone(init) for init in (init, init2)]\n",
    "#crossover operation\n",
    "# tools.cxBlend(child1, child2, 0.5)\n",
    "del child1.fitness.values\n",
    "del child2.fitness.values\n",
    "tools.cxBlend(child1, child2, 0.5)"
   ]
  },
  {
   "cell_type": "code",
   "execution_count": 101,
   "metadata": {},
   "outputs": [
    {
     "name": "stdout",
     "output_type": "stream",
     "text": [
      "False\n"
     ]
    },
    {
     "data": {
      "text/plain": [
       "[[0.6531130096971938,\n",
       "  0.9827366144433758,\n",
       "  0.9850245147031187,\n",
       "  0.7875693757665965,\n",
       "  0.10895688335339834,\n",
       "  0.8040082488351299,\n",
       "  0.23022572100661354,\n",
       "  0.18324590141558017,\n",
       "  0.017807771983928862,\n",
       "  0.08122803603488127]]"
      ]
     },
     "execution_count": 101,
     "metadata": {},
     "output_type": "execute_result"
    }
   ],
   "source": [
    "#selecting the best one from child1 and child2\n",
    "selected = tools.selBest([child1, child2], 1)\n",
    "print(child2 in selected) #True\n",
    "offspring = [toolbox.clone(ind) for ind in selected]\n",
    "offspring"
   ]
  },
  {
   "cell_type": "code",
   "execution_count": 114,
   "metadata": {},
   "outputs": [],
   "source": [
    "def evaluateInd(individual):\n",
    "    result = individual **2\n",
    "    return result\n",
    "#def mate method\n",
    "toolbox.register('mate', tools.cxTwoPoint)\n",
    "#def mutate method\n",
    "toolbox.register('mutate', tools.mutGaussian, mu = 0, sigma = 1, indpb = 0.2)\n",
    "#def select method\n",
    "toolbox.register('select', tools.selTournament, tournsize = 3)\n",
    "#def evaluate method\n",
    "toolbox.register('evaluate', evaluate)"
   ]
  },
  {
   "cell_type": "code",
   "execution_count": 110,
   "metadata": {},
   "outputs": [
    {
     "name": "stdout",
     "output_type": "stream",
     "text": [
      "(5.6912680343886155, 0.1)\n",
      "(7.704486898602959, 0.1)\n",
      "(5.393469202685689, 0.1)\n",
      "(4.560216190741233, 0.1)\n",
      "(4.612617266611533, 0.1)\n",
      "(4.6626790722367035, 0.1)\n",
      "(5.513348585432238, 0.1)\n",
      "(5.245364833985067, 0.1)\n",
      "(4.653320602332506, 0.1)\n",
      "(4.6067404778322665, 0.1)\n",
      "(5.9622412462111924, 0.1)\n",
      "(3.5155749282963455, 0.1)\n",
      "(3.748608935878174, 0.1)\n",
      "(3.8839445437200313, 0.1)\n",
      "(4.558482873883307, 0.1)\n",
      "(5.729165492715628, 0.1)\n",
      "(4.836664849585084, 0.1)\n",
      "(4.391334511710799, 0.1)\n",
      "(4.635758199370419, 0.1)\n",
      "(4.418921220641686, 0.1)\n",
      "(3.232685310540387, 0.1)\n",
      "(5.610646238826333, 0.1)\n",
      "(4.7246568881640725, 0.1)\n",
      "(5.500823677603311, 0.1)\n",
      "(3.890950759121781, 0.1)\n",
      "(4.153952119197869, 0.1)\n",
      "(4.46604556983855, 0.1)\n",
      "(5.722561098312209, 0.1)\n",
      "(5.323155125536628, 0.1)\n",
      "(4.052782869083851, 0.1)\n"
     ]
    }
   ],
   "source": [
    "toolbox.register('population', tools.initRepeat,list, toolbox.individual)\n",
    "pop = toolbox.population(n = 30)\n",
    "fitnesses = list(map(toolbox.evaluate, pop))\n",
    "\n",
    "for ind, fit in zip(pop, fitnesses):\n",
    "    ind.fitness.values = fit\n",
    "    print(fit)\n",
    "\n"
   ]
  },
  {
   "cell_type": "code",
   "execution_count": 121,
   "metadata": {},
   "outputs": [
    {
     "name": "stdout",
     "output_type": "stream",
     "text": [
      "[[44.244630604527, 29.38022819333971, 33.511482271425656, 32.81771556171308, 36.88725850639416, 31.110425351546958, 26.651375337434988, 32.889892187655484, 41.406755590544954, 26.08572174473211], [44.244630604527, 29.38022819333971, 32.774927061736925, 32.81771556171308, 36.88725850639416, 31.110425351546958, 26.651375337434988, 32.889892187655484, 41.406755590544954, 26.08572174473211], [44.244630604527, 29.38022819333971, 32.23671544663758, 32.81771556171308, 36.88725850639416, 31.110425351546958, 26.651375337434988, 32.889892187655484, 41.406755590544954, 26.08572174473211], [44.244630604527, 29.38022819333971, 33.511482271425656, 32.81771556171308, 36.88725850639416, 31.110425351546958, 26.651375337434988, 32.889892187655484, 41.406755590544954, 26.08572174473211], [44.244630604527, 29.38022819333971, 33.511482271425656, 32.81771556171308, 36.88725850639416, 31.110425351546958, 26.651375337434988, 32.889892187655484, 41.406755590544954, 26.08572174473211], [44.244630604527, 29.38022819333971, 33.511482271425656, 32.81771556171308, 36.88725850639416, 31.110425351546958, 26.651375337434988, 32.889892187655484, 41.406755590544954, 26.08572174473211], [44.18142832303503, 29.38022819333971, 32.23671544663758, 32.81771556171308, 36.88725850639416, 31.110425351546958, 27.204086237162496, 32.889892187655484, 40.71668823518115, 26.08572174473211], [44.244630604527, 29.38022819333971, 33.511482271425656, 32.81771556171308, 36.88725850639416, 31.110425351546958, 26.651375337434988, 32.889892187655484, 41.406755590544954, 26.08572174473211], [44.244630604527, 29.38022819333971, 33.511482271425656, 32.81771556171308, 36.88725850639416, 31.110425351546958, 26.651375337434988, 32.889892187655484, 41.406755590544954, 26.08572174473211], [44.18142832303503, 29.38022819333971, 32.23671544663758, 32.81771556171308, 36.88725850639416, 31.110425351546958, 27.204086237162496, 32.889892187655484, 40.71668823518115, 26.08572174473211], [44.244630604527, 29.38022819333971, 33.511482271425656, 32.81771556171308, 36.88725850639416, 31.110425351546958, 26.651375337434988, 32.889892187655484, 41.406755590544954, 26.08572174473211], [44.244630604527, 29.38022819333971, 33.511482271425656, 32.81771556171308, 36.88725850639416, 31.110425351546958, 26.651375337434988, 32.295166689440684, 41.406755590544954, 24.540050308649253], [44.244630604527, 29.38022819333971, 33.511482271425656, 32.81771556171308, 36.88725850639416, 31.110425351546958, 26.651375337434988, 32.889892187655484, 41.406755590544954, 26.08572174473211], [44.244630604527, 29.38022819333971, 33.511482271425656, 32.81771556171308, 36.88725850639416, 31.110425351546958, 26.651375337434988, 32.889892187655484, 41.406755590544954, 26.08572174473211], [44.244630604527, 29.38022819333971, 32.23671544663758, 32.81771556171308, 36.88725850639416, 31.110425351546958, 26.651375337434988, 32.889892187655484, 41.406755590544954, 26.08572174473211], [44.244630604527, 29.38022819333971, 33.511482271425656, 32.81771556171308, 36.88725850639416, 31.110425351546958, 26.651375337434988, 32.889892187655484, 41.406755590544954, 26.08572174473211], [44.244630604527, 29.38022819333971, 33.511482271425656, 32.81771556171308, 36.88725850639416, 31.110425351546958, 26.651375337434988, 32.295166689440684, 41.406755590544954, 24.540050308649253], [44.244630604527, 29.38022819333971, 32.23671544663758, 32.81771556171308, 36.88725850639416, 31.110425351546958, 26.651375337434988, 32.889892187655484, 41.406755590544954, 26.08572174473211], [44.244630604527, 29.38022819333971, 32.23671544663758, 32.81771556171308, 36.88725850639416, 31.110425351546958, 26.651375337434988, 32.889892187655484, 41.406755590544954, 26.08572174473211], [44.244630604527, 29.38022819333971, 32.23671544663758, 32.81771556171308, 36.88725850639416, 31.110425351546958, 26.651375337434988, 32.889892187655484, 41.406755590544954, 26.08572174473211], [44.244630604527, 29.38022819333971, 32.23671544663758, 32.81771556171308, 36.88725850639416, 31.110425351546958, 26.651375337434988, 32.889892187655484, 41.406755590544954, 26.08572174473211], [45.60896083323459, 29.38022819333971, 33.511482271425656, 32.81771556171308, 36.88725850639416, 31.110425351546958, 26.651375337434988, 32.295166689440684, 41.406755590544954, 24.540050308649253], [44.244630604527, 29.38022819333971, 33.511482271425656, 32.81771556171308, 36.88725850639416, 31.110425351546958, 26.651375337434988, 32.889892187655484, 41.406755590544954, 26.08572174473211], [44.244630604527, 29.38022819333971, 33.511482271425656, 32.81771556171308, 36.88725850639416, 31.110425351546958, 26.651375337434988, 32.889892187655484, 41.406755590544954, 26.08572174473211], [44.244630604527, 29.38022819333971, 33.511482271425656, 32.81771556171308, 36.88725850639416, 31.110425351546958, 26.651375337434988, 32.889892187655484, 41.406755590544954, 26.08572174473211], [44.244630604527, 29.38022819333971, 33.511482271425656, 32.81771556171308, 36.88725850639416, 31.110425351546958, 26.651375337434988, 32.889892187655484, 41.406755590544954, 26.08572174473211], [44.244630604527, 29.38022819333971, 33.511482271425656, 32.81771556171308, 36.88725850639416, 31.110425351546958, 26.651375337434988, 32.889892187655484, 41.406755590544954, 26.08572174473211], [44.244630604527, 29.38022819333971, 33.511482271425656, 32.81771556171308, 36.88725850639416, 31.110425351546958, 26.651375337434988, 32.889892187655484, 41.406755590544954, 26.08572174473211], [44.244630604527, 29.38022819333971, 32.774927061736925, 32.81771556171308, 36.88725850639416, 31.110425351546958, 26.651375337434988, 32.889892187655484, 41.406755590544954, 26.08572174473211]]\n"
     ]
    }
   ],
   "source": [
    "NGEN = 100 #ITERATION NUMBER\n",
    "CXPB = 0.1 #CROSSOVER RATE\n",
    "MUPB = 0.1 #MUTATION RATE\n",
    "\n",
    "for i in range(NGEN):\n",
    "    #selection\n",
    "    offspring = toolbox.select(pop, len(pop)) #select len(pop) individuals from pop\n",
    "#     if i == 0:\n",
    "#         print(offspring)\n",
    "    #clone the selected individuals\n",
    "    offspring = list(map(toolbox.clone, offspring))\n",
    "    if i == 0:\n",
    "        print(offspring[1:])\n",
    "        \n",
    "    #crossover\n",
    "    for child1, child2 in zip(offspring[::2], offspring[1::2]):\n",
    "        if random.random() < CXPB:\n",
    "            toolbox.mate(child1, child2)\n",
    "            del child1.fitness.values\n",
    "            del child2.fitness.values\n",
    "            \n",
    "    #mutation\n",
    "    for mutant in offspring:\n",
    "        if random.random() < MUPB:\n",
    "            toolbox.mutate(mutant)\n",
    "            del mutant.fitness.values\n",
    "    \n",
    "    #evaluate the individuals with an invalid fitness\n",
    "    invalid_ind = [ind for ind in offspring if not ind.fitness.valid]\n",
    "    fitness = toolbox.map(toolbox.evaluate, invalid_ind)\n",
    "    for ind, fit in zip(invalid_ind, fitness):\n",
    "        ind.fitness.values = fit\n",
    "        \n",
    "    #the population is entirely replaced by offspring\n",
    "    pop[:] = offspring\n"
   ]
  },
  {
   "cell_type": "markdown",
   "metadata": {},
   "source": [
    "# GP"
   ]
  },
  {
   "cell_type": "code",
   "execution_count": 161,
   "metadata": {},
   "outputs": [
    {
     "data": {
      "text/plain": [
       "[<deap.gp.Primitive at 0x1e8632a05e0>,\n",
       " <deap.gp.Primitive at 0x1e8632c13b0>,\n",
       " <deap.gp.Primitive at 0x1e8631bc090>,\n",
       " <deap.gp.Terminal at 0x1e863097fc0>,\n",
       " <deap.gp.Terminal at 0x1e863097a40>,\n",
       " <deap.gp.Primitive at 0x1e8631bc090>,\n",
       " <deap.gp.Terminal at 0x1e863097fc0>,\n",
       " <deap.gp.Terminal at 0x1e863097a40>]"
      ]
     },
     "execution_count": 161,
     "metadata": {},
     "output_type": "execute_result"
    }
   ],
   "source": [
    "import operator\n",
    "from deap import base,creator,gp,tools\n",
    "\n",
    "pset = gp.PrimitiveSet('MAIN', 2)\n",
    "pset.addPrimitive(max, 2)\n",
    "pset.addPrimitive(operator.add, 2)\n",
    "pset.addPrimitive(operator.mul, 2)\n",
    "pset.addTerminal(3)\n",
    "\n",
    "#change the name of arguemnts from ARG0/ARG1 to x/y\n",
    "pset.renameArguments(ARG0 = 'x')\n",
    "pset.renameArguments(ARG1 = 'y')\n",
    "\n",
    "\n",
    "pset.addPrimitive(operator.neg, 1)\n",
    "\n",
    "\n",
    "expr = gp.genFull(pset, min_ = 1, max_ =3)\n",
    "tree = gp.PrimitiveTree(expr)\n",
    "tree"
   ]
  },
  {
   "cell_type": "code",
   "execution_count": 167,
   "metadata": {},
   "outputs": [],
   "source": [
    "def if_then_else(input, output1, output2):\n",
    "    return output1 if input else output2\n",
    "\n",
    "pset = gp.PrimitiveSetTyped('main', [bool, float], float)\n",
    "\n",
    "pset.addPrimitive(operator.xor, [bool, bool], bool)\n",
    "pset.addPrimitive(operator.mul, [bool, bool], bool)\n",
    "pset.addPrimitive(if_then_else, [bool, float, float], float)\n",
    "pset.addTerminal(3.0, float)\n",
    "pset.addTerminal(1, bool)\n",
    "\n",
    "pset.renameArguments(ARG0 = 'x')\n",
    "pset.renameArguments(ARG1 = 'y')\n",
    "\n",
    "# pset.addEphemeralConstant('m1',lambda: random.uniform(-1, 1), float)\n",
    "\n",
    "pset.addEphemeralConstant('m2',lambda: random.uniform(-10, 10), int)"
   ]
  },
  {
   "cell_type": "code",
   "execution_count": 168,
   "metadata": {},
   "outputs": [
    {
     "name": "stderr",
     "output_type": "stream",
     "text": [
      "C:\\Users\\eiahb\\.conda\\envs\\env_ga\\lib\\site-packages\\deap\\creator.py:138: RuntimeWarning: A class named 'Individual' has already been created and it will be overwritten. Consider deleting previous creation of that class or rename it.\n",
      "  warnings.warn(\"A class named '{0}' has already been created and it \"\n"
     ]
    },
    {
     "data": {
      "text/plain": [
       "[[<deap.gp.Primitive at 0x1e8632bdd60>,\n",
       "  <deap.gp.Terminal at 0x1e8631c3d00>,\n",
       "  <deap.gp.Terminal at 0x1e8631c3d80>,\n",
       "  <deap.gp.Terminal at 0x1e8631c3d80>]]"
      ]
     },
     "execution_count": 168,
     "metadata": {},
     "output_type": "execute_result"
    }
   ],
   "source": [
    "#creating fitness function and individual\n",
    "creator.create('FitnessMin', base.Fitness, weights=(-1.0,))\n",
    "creator.create('Individual', gp.PrimitiveTree, fitness = creator.FitnessMin,\n",
    "               pset = pset)\n",
    "\n",
    "#register them\n",
    "toolbox = base.Toolbox()\n",
    "\n",
    "toolbox.register('expr', gp.genFull, pset = pset, min_=1, max_ = 3)\n",
    "toolbox.register('individual', tools.initRepeat, creator.Individual,\n",
    "                 toolbox.expr)\n",
    "\n",
    "toolbox.individual(n=1)"
   ]
  },
  {
   "cell_type": "code",
   "execution_count": 179,
   "metadata": {},
   "outputs": [
    {
     "data": {
      "text/plain": [
       "'if_then_else(xor(x, x), if_then_else(x, y, y), if_then_else(x, y, 3.0))'"
      ]
     },
     "execution_count": 179,
     "metadata": {},
     "output_type": "execute_result"
    }
   ],
   "source": [
    "expr = gp.genFull(pset, min_=1, max_=3)\n",
    "tree = gp.PrimitiveTree(expr)\n",
    "str(tree)\n",
    "# 'mul(add(x, x), max(y, x))'\n"
   ]
  },
  {
   "cell_type": "code",
   "execution_count": 180,
   "metadata": {},
   "outputs": [
    {
     "data": {
      "text/plain": [
       "2"
      ]
     },
     "execution_count": 180,
     "metadata": {},
     "output_type": "execute_result"
    }
   ],
   "source": [
    "toolbox.register(\"compile\", gp.compile, pset=pset)\n",
    "\n",
    "function = toolbox.compile(tree)\n",
    "\n",
    "function(1,2) # x = 1, y = 2"
   ]
  }
 ],
 "metadata": {
  "kernelspec": {
   "display_name": "Python 3",
   "language": "python",
   "name": "python3"
  },
  "language_info": {
   "codemirror_mode": {
    "name": "ipython",
    "version": 3
   },
   "file_extension": ".py",
   "mimetype": "text/x-python",
   "name": "python",
   "nbconvert_exporter": "python",
   "pygments_lexer": "ipython3",
   "version": "3.8.6"
  }
 },
 "nbformat": 4,
 "nbformat_minor": 4
}
